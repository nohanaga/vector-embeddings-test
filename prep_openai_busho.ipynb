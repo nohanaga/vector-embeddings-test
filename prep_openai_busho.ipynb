{
 "cells": [
  {
   "cell_type": "markdown",
   "metadata": {},
   "source": [
    "# Prep OpenAI embeddings\n",
    "\n",
    "このノートブックは、Azure OpenAI のモデルを使用して、一般的な日本語の単語の集合に対する Embeddings を生成します。"
   ]
  },
  {
   "cell_type": "code",
   "execution_count": null,
   "metadata": {},
   "outputs": [],
   "source": [
    "import csv\n",
    "import logging\n",
    "import json\n",
    "import os\n",
    "\n",
    "from azure.identity import AzureCliCredential, get_bearer_token_provider\n",
    "import openai\n",
    "import dotenv\n",
    "\n",
    "logging.basicConfig(level=logging.INFO)\n",
    "dotenv.load_dotenv()\n",
    "\n",
    "# Set up OpenAI client\n",
    "AZURE_OPENAI_ENDPOINT = os.getenv(\"AZURE_OPENAI_ENDPOINT\")\n",
    "AZURE_OPENAI_EMBEDDING_DEPLOYMENT = os.getenv(\"AZURE_OPENAI_EMBEDDING_DEPLOYMENT\")\n",
    "AZURE_OPENAI_EMBEDDING_DIMENSIONS = os.getenv(\"AZURE_OPENAI_EMBEDDING_DIMENSIONS\") \n",
    "subscription_key = os.getenv(\"AZURE_OPENAI_API_KEY\")  \n",
    "\n",
    "azure_credential = AzureCliCredential()\n",
    "token_provider = get_bearer_token_provider(azure_credential, \"https://cognitiveservices.azure.com/.default\")\n",
    "openai_client = openai.AzureOpenAI(\n",
    "    api_version=\"2023-05-15\",\n",
    "    azure_endpoint=AZURE_OPENAI_ENDPOINT,\n",
    "    #azure_ad_token_provider=token_provider,\n",
    "    api_key=subscription_key,  \n",
    ")\n",
    "\n",
    "# 単一の埋め込みリクエストで入力の配列を送信する場合、配列の最大サイズは 2048 です。\n",
    "def get_embeddings(words):\n",
    "    \"\"\"OpenAI を使用してバッチ（すべての単語を一度に）で埋め込みを計算する\"\"\"\n",
    "    word_vectors = {}\n",
    "    dimensions_args = (\n",
    "        {\"dimensions\": int(AZURE_OPENAI_EMBEDDING_DIMENSIONS)}\n",
    "        if AZURE_OPENAI_EMBEDDING_DIMENSIONS\n",
    "        else {}\n",
    "    )\n",
    "\n",
    "    embeddings_response = openai_client.embeddings.create(\n",
    "        model=AZURE_OPENAI_EMBEDDING_DEPLOYMENT,\n",
    "        input=words,\n",
    "        **dimensions_args\n",
    "    )\n",
    "    for word, embedding_object in zip(words, embeddings_response.data):\n",
    "        word_vectors[word] = embedding_object.embedding\n",
    "    return word_vectors\n",
    "\n",
    "print(\"AZURE_OPENAI_EMBEDDING_DEPLOYMENT: \", AZURE_OPENAI_EMBEDDING_DEPLOYMENT)\n",
    "print(\"AZURE_OPENAI_EMBEDDING_DIMENSIONS: \", AZURE_OPENAI_EMBEDDING_DIMENSIONS)"
   ]
  },
  {
   "cell_type": "code",
   "execution_count": null,
   "metadata": {},
   "outputs": [],
   "source": [
    "# busho_nouns_neologd_1000.csv を開き、最初の列を単語として読み取ります。\n",
    "words = []\n",
    "with open('embeddings/busho_nouns_neologd_1000.csv') as f:\n",
    "    reader = csv.reader(f)\n",
    "    next(reader)\n",
    "    for row in reader:\n",
    "        words.append(row[0])\n",
    "\n",
    "print(len(words), words[:10])"
   ]
  },
  {
   "cell_type": "code",
   "execution_count": null,
   "metadata": {},
   "outputs": [],
   "source": [
    "# すべての単語の埋め込みを計算する\n",
    "word_vectors = get_embeddings(words)\n",
    "print(len(word_vectors))"
   ]
  },
  {
   "cell_type": "code",
   "execution_count": null,
   "metadata": {},
   "outputs": [],
   "source": [
    "# 埋め込みをファイルに保存する\n",
    "filename = f\"embeddings/words_{AZURE_OPENAI_EMBEDDING_DEPLOYMENT}-{AZURE_OPENAI_EMBEDDING_DIMENSIONS}.json\"\n",
    "\n",
    "with open(filename, 'w') as f:\n",
    "    json.dump(word_vectors, f, indent=4, ensure_ascii=False)\n"
   ]
  }
 ],
 "metadata": {
  "kernelspec": {
   "display_name": "py1226",
   "language": "python",
   "name": "python3"
  },
  "language_info": {
   "codemirror_mode": {
    "name": "ipython",
    "version": 3
   },
   "file_extension": ".py",
   "mimetype": "text/x-python",
   "name": "python",
   "nbconvert_exporter": "python",
   "pygments_lexer": "ipython3",
   "version": "3.10.13"
  }
 },
 "nbformat": 4,
 "nbformat_minor": 2
}
